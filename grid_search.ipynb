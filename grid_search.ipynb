{
 "cells": [
  {
   "cell_type": "code",
   "execution_count": 15,
   "id": "suffering-respondent",
   "metadata": {},
   "outputs": [],
   "source": [
    "import os\n",
    "import time\n",
    "\n",
    "import cv2\n",
    "import numpy as np\n",
    "import pandas as pd\n",
    "import seaborn as sns\n",
    "from sklearn.metrics import accuracy_score"
   ]
  },
  {
   "cell_type": "code",
   "execution_count": 2,
   "id": "touched-cabinet",
   "metadata": {},
   "outputs": [],
   "source": [
    "from image_registration import image_registration\n",
    "from helpers import diff_image"
   ]
  },
  {
   "cell_type": "code",
   "execution_count": 3,
   "id": "welcome-karma",
   "metadata": {},
   "outputs": [
    {
     "data": {
      "text/html": [
       "<div>\n",
       "<style scoped>\n",
       "    .dataframe tbody tr th:only-of-type {\n",
       "        vertical-align: middle;\n",
       "    }\n",
       "\n",
       "    .dataframe tbody tr th {\n",
       "        vertical-align: top;\n",
       "    }\n",
       "\n",
       "    .dataframe thead th {\n",
       "        text-align: right;\n",
       "    }\n",
       "</style>\n",
       "<table border=\"1\" class=\"dataframe\">\n",
       "  <thead>\n",
       "    <tr style=\"text-align: right;\">\n",
       "      <th></th>\n",
       "      <th>img_1</th>\n",
       "      <th>img_2</th>\n",
       "      <th>target</th>\n",
       "    </tr>\n",
       "  </thead>\n",
       "  <tbody>\n",
       "    <tr>\n",
       "      <th>0</th>\n",
       "      <td>orig_1.png</td>\n",
       "      <td>fake_1.png</td>\n",
       "      <td>0</td>\n",
       "    </tr>\n",
       "    <tr>\n",
       "      <th>1</th>\n",
       "      <td>orig_2.png</td>\n",
       "      <td>fake_2.png</td>\n",
       "      <td>0</td>\n",
       "    </tr>\n",
       "    <tr>\n",
       "      <th>2</th>\n",
       "      <td>orig_3.png</td>\n",
       "      <td>fake_3.png</td>\n",
       "      <td>0</td>\n",
       "    </tr>\n",
       "    <tr>\n",
       "      <th>3</th>\n",
       "      <td>orig_4.png</td>\n",
       "      <td>fake_4.png</td>\n",
       "      <td>0</td>\n",
       "    </tr>\n",
       "    <tr>\n",
       "      <th>4</th>\n",
       "      <td>orig_5.png</td>\n",
       "      <td>fake_5.png</td>\n",
       "      <td>0</td>\n",
       "    </tr>\n",
       "    <tr>\n",
       "      <th>5</th>\n",
       "      <td>orig_5.png</td>\n",
       "      <td>orig_5_2.png</td>\n",
       "      <td>1</td>\n",
       "    </tr>\n",
       "    <tr>\n",
       "      <th>6</th>\n",
       "      <td>orig_6.png</td>\n",
       "      <td>fake_6.png</td>\n",
       "      <td>0</td>\n",
       "    </tr>\n",
       "    <tr>\n",
       "      <th>7</th>\n",
       "      <td>orig_6.png</td>\n",
       "      <td>orig_6_2.png</td>\n",
       "      <td>1</td>\n",
       "    </tr>\n",
       "    <tr>\n",
       "      <th>8</th>\n",
       "      <td>orig_7.png</td>\n",
       "      <td>fake_7.png</td>\n",
       "      <td>0</td>\n",
       "    </tr>\n",
       "    <tr>\n",
       "      <th>9</th>\n",
       "      <td>orig_7.png</td>\n",
       "      <td>orig_7_2.png</td>\n",
       "      <td>1</td>\n",
       "    </tr>\n",
       "    <tr>\n",
       "      <th>10</th>\n",
       "      <td>orig_8.png</td>\n",
       "      <td>fake_8.png</td>\n",
       "      <td>0</td>\n",
       "    </tr>\n",
       "    <tr>\n",
       "      <th>11</th>\n",
       "      <td>orig_9.png</td>\n",
       "      <td>fake_9.png</td>\n",
       "      <td>0</td>\n",
       "    </tr>\n",
       "    <tr>\n",
       "      <th>12</th>\n",
       "      <td>orig_9.png</td>\n",
       "      <td>orig_9_2.png</td>\n",
       "      <td>1</td>\n",
       "    </tr>\n",
       "  </tbody>\n",
       "</table>\n",
       "</div>"
      ],
      "text/plain": [
       "         img_1         img_2  target\n",
       "0   orig_1.png    fake_1.png       0\n",
       "1   orig_2.png    fake_2.png       0\n",
       "2   orig_3.png    fake_3.png       0\n",
       "3   orig_4.png    fake_4.png       0\n",
       "4   orig_5.png    fake_5.png       0\n",
       "5   orig_5.png  orig_5_2.png       1\n",
       "6   orig_6.png    fake_6.png       0\n",
       "7   orig_6.png  orig_6_2.png       1\n",
       "8   orig_7.png    fake_7.png       0\n",
       "9   orig_7.png  orig_7_2.png       1\n",
       "10  orig_8.png    fake_8.png       0\n",
       "11  orig_9.png    fake_9.png       0\n",
       "12  orig_9.png  orig_9_2.png       1"
      ]
     },
     "execution_count": 3,
     "metadata": {},
     "output_type": "execute_result"
    }
   ],
   "source": [
    "df = pd.read_csv('data.csv', index_col=0)\n",
    "df"
   ]
  },
  {
   "cell_type": "code",
   "execution_count": 29,
   "id": "ongoing-number",
   "metadata": {},
   "outputs": [
    {
     "name": "stdout",
     "output_type": "stream",
     "text": [
      "orig_1.png fake_1.png\n",
      "orig_2.png fake_2.png\n",
      "orig_3.png fake_3.png\n",
      "orig_4.png fake_4.png\n",
      "orig_5.png fake_5.png\n",
      "orig_5.png orig_5_2.png\n",
      "orig_6.png fake_6.png\n",
      "orig_6.png orig_6_2.png\n",
      "orig_7.png fake_7.png\n",
      "orig_7.png orig_7_2.png\n",
      "orig_8.png fake_8.png\n",
      "orig_9.png fake_9.png\n",
      "orig_9.png orig_9_2.png\n"
     ]
    }
   ],
   "source": [
    "scores = []\n",
    "for i in range(df.shape[0]):\n",
    "    positive_path, negative_path, _ = df.iloc[i]\n",
    "    print(positive_path, negative_path)\n",
    "    \n",
    "    positive = cv2.imread('data/marks/' + positive_path)\n",
    "    negative = cv2.imread('data/marks/' + negative_path)\n",
    "\n",
    "    crop_1, crop_2 = image_registration(positive, negative)\n",
    "    diff, score = diff_image(crop_1, crop_2)\n",
    "    scores.append(score)\n",
    "df['score'] = scores"
   ]
  },
  {
   "cell_type": "code",
   "execution_count": 37,
   "id": "every-zoning",
   "metadata": {},
   "outputs": [
    {
     "data": {
      "text/html": [
       "<div>\n",
       "<style scoped>\n",
       "    .dataframe tbody tr th:only-of-type {\n",
       "        vertical-align: middle;\n",
       "    }\n",
       "\n",
       "    .dataframe tbody tr th {\n",
       "        vertical-align: top;\n",
       "    }\n",
       "\n",
       "    .dataframe thead th {\n",
       "        text-align: right;\n",
       "    }\n",
       "</style>\n",
       "<table border=\"1\" class=\"dataframe\">\n",
       "  <thead>\n",
       "    <tr style=\"text-align: right;\">\n",
       "      <th></th>\n",
       "      <th>img_1</th>\n",
       "      <th>img_2</th>\n",
       "      <th>target</th>\n",
       "      <th>score</th>\n",
       "    </tr>\n",
       "  </thead>\n",
       "  <tbody>\n",
       "    <tr>\n",
       "      <th>0</th>\n",
       "      <td>orig_1.png</td>\n",
       "      <td>fake_1.png</td>\n",
       "      <td>0</td>\n",
       "      <td>0.680426</td>\n",
       "    </tr>\n",
       "    <tr>\n",
       "      <th>1</th>\n",
       "      <td>orig_2.png</td>\n",
       "      <td>fake_2.png</td>\n",
       "      <td>0</td>\n",
       "      <td>0.660493</td>\n",
       "    </tr>\n",
       "    <tr>\n",
       "      <th>2</th>\n",
       "      <td>orig_3.png</td>\n",
       "      <td>fake_3.png</td>\n",
       "      <td>0</td>\n",
       "      <td>0.692668</td>\n",
       "    </tr>\n",
       "    <tr>\n",
       "      <th>3</th>\n",
       "      <td>orig_4.png</td>\n",
       "      <td>fake_4.png</td>\n",
       "      <td>0</td>\n",
       "      <td>0.660567</td>\n",
       "    </tr>\n",
       "    <tr>\n",
       "      <th>4</th>\n",
       "      <td>orig_5.png</td>\n",
       "      <td>fake_5.png</td>\n",
       "      <td>0</td>\n",
       "      <td>0.488491</td>\n",
       "    </tr>\n",
       "    <tr>\n",
       "      <th>5</th>\n",
       "      <td>orig_5.png</td>\n",
       "      <td>orig_5_2.png</td>\n",
       "      <td>1</td>\n",
       "      <td>0.707378</td>\n",
       "    </tr>\n",
       "    <tr>\n",
       "      <th>6</th>\n",
       "      <td>orig_6.png</td>\n",
       "      <td>fake_6.png</td>\n",
       "      <td>0</td>\n",
       "      <td>0.589178</td>\n",
       "    </tr>\n",
       "    <tr>\n",
       "      <th>7</th>\n",
       "      <td>orig_6.png</td>\n",
       "      <td>orig_6_2.png</td>\n",
       "      <td>1</td>\n",
       "      <td>0.686765</td>\n",
       "    </tr>\n",
       "    <tr>\n",
       "      <th>8</th>\n",
       "      <td>orig_7.png</td>\n",
       "      <td>fake_7.png</td>\n",
       "      <td>0</td>\n",
       "      <td>0.548514</td>\n",
       "    </tr>\n",
       "    <tr>\n",
       "      <th>9</th>\n",
       "      <td>orig_7.png</td>\n",
       "      <td>orig_7_2.png</td>\n",
       "      <td>1</td>\n",
       "      <td>0.672308</td>\n",
       "    </tr>\n",
       "    <tr>\n",
       "      <th>10</th>\n",
       "      <td>orig_8.png</td>\n",
       "      <td>fake_8.png</td>\n",
       "      <td>0</td>\n",
       "      <td>0.632162</td>\n",
       "    </tr>\n",
       "    <tr>\n",
       "      <th>11</th>\n",
       "      <td>orig_9.png</td>\n",
       "      <td>fake_9.png</td>\n",
       "      <td>0</td>\n",
       "      <td>0.457949</td>\n",
       "    </tr>\n",
       "    <tr>\n",
       "      <th>12</th>\n",
       "      <td>orig_9.png</td>\n",
       "      <td>orig_9_2.png</td>\n",
       "      <td>1</td>\n",
       "      <td>0.669226</td>\n",
       "    </tr>\n",
       "  </tbody>\n",
       "</table>\n",
       "</div>"
      ],
      "text/plain": [
       "         img_1         img_2  target     score\n",
       "0   orig_1.png    fake_1.png       0  0.680426\n",
       "1   orig_2.png    fake_2.png       0  0.660493\n",
       "2   orig_3.png    fake_3.png       0  0.692668\n",
       "3   orig_4.png    fake_4.png       0  0.660567\n",
       "4   orig_5.png    fake_5.png       0  0.488491\n",
       "5   orig_5.png  orig_5_2.png       1  0.707378\n",
       "6   orig_6.png    fake_6.png       0  0.589178\n",
       "7   orig_6.png  orig_6_2.png       1  0.686765\n",
       "8   orig_7.png    fake_7.png       0  0.548514\n",
       "9   orig_7.png  orig_7_2.png       1  0.672308\n",
       "10  orig_8.png    fake_8.png       0  0.632162\n",
       "11  orig_9.png    fake_9.png       0  0.457949\n",
       "12  orig_9.png  orig_9_2.png       1  0.669226"
      ]
     },
     "execution_count": 37,
     "metadata": {},
     "output_type": "execute_result"
    }
   ],
   "source": [
    "df"
   ]
  },
  {
   "cell_type": "code",
   "execution_count": 46,
   "id": "rotary-request",
   "metadata": {},
   "outputs": [
    {
     "data": {
      "text/plain": [
       "(0.45794940108957694, 0.6926680104157521)"
      ]
     },
     "execution_count": 46,
     "metadata": {},
     "output_type": "execute_result"
    }
   ],
   "source": [
    "df[df.target == 0].score.min(), df[df.target == 0].score.max()"
   ]
  },
  {
   "cell_type": "code",
   "execution_count": 47,
   "id": "entertaining-optimization",
   "metadata": {},
   "outputs": [
    {
     "data": {
      "text/plain": [
       "(0.6692263334982715, 0.7073778521114078)"
      ]
     },
     "execution_count": 47,
     "metadata": {},
     "output_type": "execute_result"
    }
   ],
   "source": [
    "df[df.target == 1].score.min(), df[df.target == 1].score.max()"
   ]
  },
  {
   "cell_type": "code",
   "execution_count": 48,
   "id": "printable-veteran",
   "metadata": {},
   "outputs": [
    {
     "data": {
      "text/plain": [
       "<AxesSubplot:xlabel='target', ylabel='score'>"
      ]
     },
     "execution_count": 48,
     "metadata": {},
     "output_type": "execute_result"
    },
    {
     "data": {
      "image/png": "[encoded data removed]",
      "text/plain": [
       "<Figure size 432x288 with 1 Axes>"
      ]
     },
     "metadata": {
      "needs_background": "light"
     },
     "output_type": "display_data"
    }
   ],
   "source": [
    "sns.boxplot(data=df, y='score', x='target')"
   ]
  },
  {
   "cell_type": "code",
   "execution_count": 51,
   "id": "delayed-young",
   "metadata": {},
   "outputs": [
    {
     "data": {
      "text/plain": [
       "True"
      ]
     },
     "execution_count": 51,
     "metadata": {},
     "output_type": "execute_result"
    }
   ],
   "source": [
    "scores > [0.68]"
   ]
  },
  {
   "cell_type": "code",
   "execution_count": null,
   "id": "breeding-tours",
   "metadata": {},
   "outputs": [],
   "source": [
    "# возьмем порог по точности 0.68"
   ]
  },
  {
   "cell_type": "markdown",
   "id": "ranking-chance",
   "metadata": {},
   "source": [
    "### Подбор параметров"
   ]
  },
  {
   "cell_type": "code",
   "execution_count": 4,
   "id": "controlled-cover",
   "metadata": {},
   "outputs": [],
   "source": [
    "parametrs = {\n",
    "    'ORB_points': [5000, 10000, 15000],\n",
    "    'DIFF_THR': [100, 120, 150],\n",
    "}\n",
    "\n",
    "grid_search = pd.DataFrame([], columns=['ORB_points', 'H_MATCH_COUNT', 'H_DIST', 'time', 'accuracy'])"
   ]
  },
  {
   "cell_type": "code",
   "execution_count": 5,
   "id": "breeding-appeal",
   "metadata": {},
   "outputs": [],
   "source": [
    "# возьмем порог по точности 0.68\n",
    "THR = 0.68"
   ]
  },
  {
   "cell_type": "code",
   "execution_count": 13,
   "id": "brave-guest",
   "metadata": {},
   "outputs": [],
   "source": [
    "res = pd.DataFrame([], columns= ['orb', 'd', 'time', 'acc'])"
   ]
  },
  {
   "cell_type": "code",
   "execution_count": 16,
   "id": "disabled-semester",
   "metadata": {},
   "outputs": [
    {
     "name": "stdout",
     "output_type": "stream",
     "text": [
      "orig_1.png fake_1.png\n",
      "orig_2.png fake_2.png\n",
      "orig_3.png fake_3.png\n",
      "orig_4.png fake_4.png\n",
      "orig_5.png fake_5.png\n",
      "orig_5.png orig_5_2.png\n",
      "orig_6.png fake_6.png\n",
      "orig_6.png orig_6_2.png\n",
      "orig_7.png fake_7.png\n",
      "orig_7.png orig_7_2.png\n",
      "orig_8.png fake_8.png\n",
      "orig_9.png fake_9.png\n",
      "orig_9.png orig_9_2.png\n",
      "orig_1.png fake_1.png\n",
      "orig_2.png fake_2.png\n",
      "orig_3.png fake_3.png\n",
      "orig_4.png fake_4.png\n",
      "orig_5.png fake_5.png\n",
      "orig_5.png orig_5_2.png\n",
      "orig_6.png fake_6.png\n",
      "orig_6.png orig_6_2.png\n",
      "orig_7.png fake_7.png\n",
      "orig_7.png orig_7_2.png\n",
      "orig_8.png fake_8.png\n",
      "orig_9.png fake_9.png\n",
      "orig_9.png orig_9_2.png\n",
      "orig_1.png fake_1.png\n",
      "orig_2.png fake_2.png\n",
      "orig_3.png fake_3.png\n",
      "orig_4.png fake_4.png\n",
      "orig_5.png fake_5.png\n",
      "orig_5.png orig_5_2.png\n",
      "orig_6.png fake_6.png\n",
      "orig_6.png orig_6_2.png\n",
      "orig_7.png fake_7.png\n",
      "orig_7.png orig_7_2.png\n",
      "orig_8.png fake_8.png\n",
      "orig_9.png fake_9.png\n",
      "orig_9.png orig_9_2.png\n",
      "orig_1.png fake_1.png\n",
      "orig_2.png fake_2.png\n",
      "orig_3.png fake_3.png\n",
      "orig_4.png fake_4.png\n",
      "orig_5.png fake_5.png\n",
      "orig_5.png orig_5_2.png\n",
      "orig_6.png fake_6.png\n",
      "orig_6.png orig_6_2.png\n",
      "orig_7.png fake_7.png\n",
      "orig_7.png orig_7_2.png\n",
      "orig_8.png fake_8.png\n",
      "orig_9.png fake_9.png\n",
      "orig_9.png orig_9_2.png\n",
      "orig_1.png fake_1.png\n",
      "orig_2.png fake_2.png\n",
      "orig_3.png fake_3.png\n",
      "orig_4.png fake_4.png\n",
      "orig_5.png fake_5.png\n",
      "orig_5.png orig_5_2.png\n",
      "orig_6.png fake_6.png\n",
      "orig_6.png orig_6_2.png\n",
      "orig_7.png fake_7.png\n",
      "orig_7.png orig_7_2.png\n",
      "orig_8.png fake_8.png\n",
      "orig_9.png fake_9.png\n",
      "orig_9.png orig_9_2.png\n",
      "orig_1.png fake_1.png\n",
      "orig_2.png fake_2.png\n",
      "orig_3.png fake_3.png\n",
      "orig_4.png fake_4.png\n",
      "orig_5.png fake_5.png\n",
      "orig_5.png orig_5_2.png\n",
      "orig_6.png fake_6.png\n",
      "orig_6.png orig_6_2.png\n",
      "orig_7.png fake_7.png\n",
      "orig_7.png orig_7_2.png\n",
      "orig_8.png fake_8.png\n",
      "orig_9.png fake_9.png\n",
      "orig_9.png orig_9_2.png\n",
      "orig_1.png fake_1.png\n",
      "orig_2.png fake_2.png\n",
      "orig_3.png fake_3.png\n",
      "orig_4.png fake_4.png\n",
      "orig_5.png fake_5.png\n",
      "orig_5.png orig_5_2.png\n",
      "orig_6.png fake_6.png\n",
      "orig_6.png orig_6_2.png\n",
      "orig_7.png fake_7.png\n",
      "orig_7.png orig_7_2.png\n",
      "orig_8.png fake_8.png\n",
      "orig_9.png fake_9.png\n",
      "orig_9.png orig_9_2.png\n",
      "orig_1.png fake_1.png\n",
      "orig_2.png fake_2.png\n",
      "orig_3.png fake_3.png\n",
      "orig_4.png fake_4.png\n",
      "orig_5.png fake_5.png\n",
      "orig_5.png orig_5_2.png\n",
      "orig_6.png fake_6.png\n",
      "orig_6.png orig_6_2.png\n",
      "orig_7.png fake_7.png\n",
      "orig_7.png orig_7_2.png\n",
      "orig_8.png fake_8.png\n",
      "orig_9.png fake_9.png\n",
      "orig_9.png orig_9_2.png\n",
      "orig_1.png fake_1.png\n",
      "orig_2.png fake_2.png\n",
      "orig_3.png fake_3.png\n",
      "orig_4.png fake_4.png\n",
      "orig_5.png fake_5.png\n",
      "orig_5.png orig_5_2.png\n",
      "orig_6.png fake_6.png\n",
      "orig_6.png orig_6_2.png\n",
      "orig_7.png fake_7.png\n",
      "orig_7.png orig_7_2.png\n",
      "orig_8.png fake_8.png\n",
      "orig_9.png fake_9.png\n",
      "orig_9.png orig_9_2.png\n"
     ]
    }
   ],
   "source": [
    "\n",
    "for orb in parametrs['ORB_points']:\n",
    "    for d in parametrs['DIFF_THR']:\n",
    "        scores = []\n",
    "        times = []\n",
    "\n",
    "        for i in range(df.shape[0]):\n",
    "\n",
    "            positive_path, negative_path = df[['img_1', 'img_2']].iloc[i]\n",
    "            print(positive_path, negative_path)\n",
    "\n",
    "            positive = cv2.imread('data/marks/' + positive_path)\n",
    "            negative = cv2.imread('data/marks/' + negative_path)\n",
    "            \n",
    "            start = time.time()\n",
    "            crop_1, crop_2 = image_registration(positive, negative)\n",
    "            diff, score = diff_image(crop_1, crop_2, d)\n",
    "            end = time.time()\n",
    "            times.append(end - start)\n",
    "            scores.append(score > THR) \n",
    "\n",
    "        r = {\n",
    "            'orb': orb,\n",
    "            'd': d,\n",
    "            'time': np.mean(times),\n",
    "            'acc': accuracy_score(df.target, scores)\n",
    "        }\n",
    "        res = res.append(r, ignore_index=True)\n",
    "                    \n",
    "                    \n",
    "        "
   ]
  },
  {
   "cell_type": "code",
   "execution_count": 22,
   "id": "round-stroke",
   "metadata": {},
   "outputs": [
    {
     "data": {
      "text/html": [
       "<div>\n",
       "<style scoped>\n",
       "    .dataframe tbody tr th:only-of-type {\n",
       "        vertical-align: middle;\n",
       "    }\n",
       "\n",
       "    .dataframe tbody tr th {\n",
       "        vertical-align: top;\n",
       "    }\n",
       "\n",
       "    .dataframe thead th {\n",
       "        text-align: right;\n",
       "    }\n",
       "</style>\n",
       "<table border=\"1\" class=\"dataframe\">\n",
       "  <thead>\n",
       "    <tr style=\"text-align: right;\">\n",
       "      <th></th>\n",
       "      <th>orb</th>\n",
       "      <th>d</th>\n",
       "      <th>time</th>\n",
       "      <th>acc</th>\n",
       "    </tr>\n",
       "  </thead>\n",
       "  <tbody>\n",
       "    <tr>\n",
       "      <th>0</th>\n",
       "      <td>5000.0</td>\n",
       "      <td>100.0</td>\n",
       "      <td>6.581898</td>\n",
       "      <td>0.692308</td>\n",
       "    </tr>\n",
       "    <tr>\n",
       "      <th>1</th>\n",
       "      <td>5000.0</td>\n",
       "      <td>120.0</td>\n",
       "      <td>6.578943</td>\n",
       "      <td>0.554500</td>\n",
       "    </tr>\n",
       "    <tr>\n",
       "      <th>2</th>\n",
       "      <td>5000.0</td>\n",
       "      <td>150.0</td>\n",
       "      <td>6.703648</td>\n",
       "      <td>0.883400</td>\n",
       "    </tr>\n",
       "    <tr>\n",
       "      <th>3</th>\n",
       "      <td>10000.0</td>\n",
       "      <td>100.0</td>\n",
       "      <td>10.381183</td>\n",
       "      <td>0.459200</td>\n",
       "    </tr>\n",
       "    <tr>\n",
       "      <th>4</th>\n",
       "      <td>10000.0</td>\n",
       "      <td>120.0</td>\n",
       "      <td>7.890245</td>\n",
       "      <td>0.872430</td>\n",
       "    </tr>\n",
       "    <tr>\n",
       "      <th>5</th>\n",
       "      <td>10000.0</td>\n",
       "      <td>150.0</td>\n",
       "      <td>7.223585</td>\n",
       "      <td>0.879500</td>\n",
       "    </tr>\n",
       "    <tr>\n",
       "      <th>6</th>\n",
       "      <td>15000.0</td>\n",
       "      <td>100.0</td>\n",
       "      <td>6.800592</td>\n",
       "      <td>0.678900</td>\n",
       "    </tr>\n",
       "    <tr>\n",
       "      <th>7</th>\n",
       "      <td>15000.0</td>\n",
       "      <td>120.0</td>\n",
       "      <td>6.843774</td>\n",
       "      <td>0.762900</td>\n",
       "    </tr>\n",
       "    <tr>\n",
       "      <th>8</th>\n",
       "      <td>15000.0</td>\n",
       "      <td>150.0</td>\n",
       "      <td>7.037416</td>\n",
       "      <td>0.673400</td>\n",
       "    </tr>\n",
       "  </tbody>\n",
       "</table>\n",
       "</div>"
      ],
      "text/plain": [
       "       orb      d       time       acc\n",
       "0   5000.0  100.0   6.581898  0.692308\n",
       "1   5000.0  120.0   6.578943  0.554500\n",
       "2   5000.0  150.0   6.703648  0.883400\n",
       "3  10000.0  100.0  10.381183  0.459200\n",
       "4  10000.0  120.0   7.890245  0.872430\n",
       "5  10000.0  150.0   7.223585  0.879500\n",
       "6  15000.0  100.0   6.800592  0.678900\n",
       "7  15000.0  120.0   6.843774  0.762900\n",
       "8  15000.0  150.0   7.037416  0.673400"
      ]
     },
     "execution_count": 22,
     "metadata": {},
     "output_type": "execute_result"
    }
   ],
   "source": [
    "res"
   ]
  },
  {
   "cell_type": "markdown",
   "id": "amateur-consumption",
   "metadata": {},
   "source": [
    "Максимальная тчоность достигается при orb=10000, d=150, время на обработку 2х изображений и их сранвение (1 иетрация) = 7.22 сек"
   ]
  },
  {
   "cell_type": "code",
   "execution_count": 21,
   "id": "driven-promotion",
   "metadata": {},
   "outputs": [
    {
     "data": {
      "text/plain": [
       "<AxesSubplot:xlabel='time', ylabel='acc'>"
      ]
     },
     "execution_count": 21,
     "metadata": {},
     "output_type": "execute_result"
    },
    {
     "data": {
      "image/png": "[encoded data removed]",
      "text/plain": [
       "<Figure size 432x288 with 1 Axes>"
      ]
     },
     "metadata": {
      "needs_background": "light"
     },
     "output_type": "display_data"
    }
   ],
   "source": [
    "sns.lineplot(data=res, x='time', y='acc')"
   ]
  },
  {
   "cell_type": "code",
   "execution_count": null,
   "id": "victorian-parliament",
   "metadata": {},
   "outputs": [],
   "source": []
  }
 ],
 "metadata": {
  "kernelspec": {
   "display_name": "Python 3",
   "language": "python",
   "name": "python3"
  },
  "language_info": {
   "codemirror_mode": {
    "name": "ipython",
    "version": 3
   },
   "file_extension": ".py",
   "mimetype": "text/x-python",
   "name": "python",
   "nbconvert_exporter": "python",
   "pygments_lexer": "ipython3",
   "version": "3.8.3"
  }
 },
 "nbformat": 4,
 "nbformat_minor": 5
}